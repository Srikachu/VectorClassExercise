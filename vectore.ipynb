{
  "nbformat": 4,
  "nbformat_minor": 0,
  "metadata": {
    "colab": {
      "provenance": [],
      "authorship_tag": "ABX9TyNpH5qjWaC/0+bRklnpBR89"
    },
    "kernelspec": {
      "name": "python3",
      "display_name": "Python 3"
    },
    "language_info": {
      "name": "python"
    }
  },
  "cells": [
    {
      "cell_type": "code",
      "metadata": {
        "id": "5-z1MQYIZt8A",
        "colab": {
          "base_uri": "https://localhost:8080/"
        },
        "outputId": "ad3e9ad1-40e2-48dc-f526-96551c78ce0a"
      },
      "source": [
        "import numpy as np\n",
        "import random as rd\n",
        "import math\n",
        "class Vector:\n",
        "  def __init__(self,i,j,k):\n",
        "    self.i=i\n",
        "    self.j=j\n",
        "    self.k=k\n",
        "  def crossProduct(self, vector2):\n",
        "    result=(self.i*vector2.k-self.k*vector2.j)\n",
        "    result-=(self.i*vector2.k-self.k*vector2.i)\n",
        "    result+=(self.i*vector2.j-self.j*vector2.i)\n",
        "    return result\n",
        "  def printVector(self):\n",
        "     print(\"{}i + {}j + {}k\".format(self.i,self.j,self.k))\n",
        "  def crossProduct(self, vector2):\n",
        "    result=(self.i*vector2.k-self.k*vector2.j)\n",
        "    result-=(self.i*vector2.k-self.k*vector2.i)\n",
        "    result+=(self.i*vector2.j-self.j*vector2.i)\n",
        "    return result\n",
        "  def dotProduct(self, vector2):\n",
        "    result=self.i*vector2.i\n",
        "    result+=self.j*vector2.j\n",
        "    result+=self.k*vector2.k\n",
        "    return result\n",
        "  def magnitude(self):\n",
        "    result=self.i**2\n",
        "    result+=self.j**2\n",
        "    result+=self.k**2\n",
        "    return  math.pow(result, (1/2))\n",
        "  def scalarProduct(self, scalar):\n",
        "    self.i*=scalar\n",
        "    self.j*=scalar\n",
        "    self.k*=scalar\n",
        "a=Vector(np.floor(rd.random()*10), np.floor(rd.random()*10), np.floor(rd.random()*10))\n",
        "b=Vector(np.floor(rd.random()*10), np.floor(rd.random()*10), np.floor(rd.random()*10))\n",
        "\n",
        "print(\"Vector class: applies vector magnitude, cross product, dot product, and scalar product, when both are random numbers\")\n",
        "\n",
        "scalar=rd.randrange(11)\n",
        "print(\"Escalar= {}\".format(scalar))\n",
        "\n",
        "print(\"Vector a: \")\n",
        "a.printVector()\n",
        "result=a.magnitude()\n",
        "print(\"Magnitude= {}\".format(result))\n",
        "print(\"Vector b: \") \n",
        "b.printVector()\n",
        "result=b.magnitude()\n",
        "print(\"Magnitude= {}\".format(result))\n",
        "\n",
        "result=a.dotProduct(b)\n",
        "print(\"Producto punto a*b={}\".format(result))\n",
        "result=a.crossProduct(b)\n",
        "print(\"Producto punto axb={}\".format(result))\n",
        "a.scalarProduct(scalar)\n",
        "b.scalarProduct(scalar)\n",
        "print(\"Vector a*{}: \".format(scalar))\n",
        "a.printVector()\n",
        "print(\"Vector b*{}: \".format(scalar))\n",
        "b.printVector()\n"
      ],
      "execution_count": 11,
      "outputs": [
        {
          "output_type": "stream",
          "name": "stdout",
          "text": [
            "Vector class: applies vector magnitude, cross product, dot product, and scalar product, when both are random numbers\n",
            "Escalar= 9\n",
            "Vector a: \n",
            "3.0i + 5.0j + 8.0k\n",
            "Magnitude= 9.899494936611665\n",
            "Vector b: \n",
            "6.0i + 6.0j + 2.0k\n",
            "Magnitude= 8.717797887081348\n",
            "Producto punto a*b=64.0\n",
            "Producto punto axb=-12.0\n",
            "Vector a*9: \n",
            "27.0i + 45.0j + 72.0k\n",
            "Vector b*9: \n",
            "54.0i + 54.0j + 18.0k\n"
          ]
        }
      ]
    }
  ]
}